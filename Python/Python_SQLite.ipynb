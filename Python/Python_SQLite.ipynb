{
 "cells": [
  {
   "cell_type": "markdown",
   "id": "c950e935-aeaa-4bbb-8f0a-d563ee436f9e",
   "metadata": {},
   "source": [
    "<h1>Using OS, Faker, and SQLite modules</h1>"
   ]
  },
  {
   "cell_type": "markdown",
   "id": "ed09f003-c97b-4121-8649-ea68c31f1e54",
   "metadata": {},
   "source": [
    "This coding example will demonstrating use of the OS module to traverse the file system to view:\n",
    "\n",
    "* Directories and subdirectories\n",
    "* File paths and extensions\n",
    "* File size\n",
    "\n",
    "We will then use the Python Faker module to generate fake filenames and directories. The data will be added to a panda dataframe to easily preview the data before adding it to a SQLite database file. Finally, the SQLite module will be used with Python to retrieve data from the database."
   ]
  },
  {
   "cell_type": "markdown",
   "id": "1277a94d-0229-49eb-8d53-537c291191b3",
   "metadata": {},
   "source": [
    "<h3> Traversing the File System</h3>"
   ]
  },
  {
   "cell_type": "markdown",
   "id": "6ed247c5-29f5-402b-a06c-9e96d7f2fd7d",
   "metadata": {},
   "source": [
    "First, we'll take a look at the files and folders in the repository."
   ]
  },
  {
   "cell_type": "code",
   "execution_count": 56,
   "id": "30d73ba9-2ad7-405b-99fa-4105699cedb2",
   "metadata": {},
   "outputs": [
    {
     "name": "stdout",
     "output_type": "stream",
     "text": [
      "File: DataFrames.ipynb\n",
      "File: Python_SQLite.ipynb\n",
      "File: Sample JavaScript.ipynb\n",
      "File: Sample Python.ipynb\n",
      "File: Sample SQL.ipynb\n",
      "File: DataFrames-checkpoint.ipynb\n",
      "File: Python_SQLite-checkpoint.ipynb\n",
      "File: Sample JavaScript-checkpoint.ipynb\n",
      "File: Sample Python-checkpoint.ipynb\n",
      "File: Sample SQL-checkpoint.ipynb\n"
     ]
    }
   ],
   "source": [
    "# Use the os.walk() function to view the files in the directory\n",
    "import os\n",
    "\n",
    "for root, directories, files in os.walk('.'):\n",
    "    for file in files:\n",
    "        print(f\"File: {file}\")"
   ]
  },
  {
   "cell_type": "code",
   "execution_count": 60,
   "id": "86a576ab-fbe1-40ab-9d1f-26612c413fd6",
   "metadata": {},
   "outputs": [
    {
     "name": "stdout",
     "output_type": "stream",
     "text": [
      "Size: 19334KB - File: .\\DataFrames.ipynb\n",
      "Size: 8946KB - File: .\\Python_SQLite.ipynb\n",
      "Size: 2633KB - File: .\\Sample JavaScript.ipynb\n",
      "Size: 8131KB - File: .\\Sample Python.ipynb\n",
      "Size: 1126KB - File: .\\Sample SQL.ipynb\n",
      "Size: 19334KB - File: .\\.ipynb_checkpoints\\DataFrames-checkpoint.ipynb\n",
      "Size: 6558KB - File: .\\.ipynb_checkpoints\\Python_SQLite-checkpoint.ipynb\n",
      "Size: 2412KB - File: .\\.ipynb_checkpoints\\Sample JavaScript-checkpoint.ipynb\n",
      "Size: 8131KB - File: .\\.ipynb_checkpoints\\Sample Python-checkpoint.ipynb\n",
      "Size: 1126KB - File: .\\.ipynb_checkpoints\\Sample SQL-checkpoint.ipynb\n"
     ]
    }
   ],
   "source": [
    "# Update the code to show the file size (in kilobytes (KB)) and full file path\n",
    "for root, directories, files in os.walk('.'):\n",
    "    for file in files:\n",
    "        full_path = os.path.join(root, file)\n",
    "        size = os.path.getsize(full_path)\n",
    "        print(f\"Size: {size}KB - File: {full_path}\")"
   ]
  },
  {
   "cell_type": "markdown",
   "id": "756f0762-d307-42da-8744-fa3ec9b132c4",
   "metadata": {},
   "source": [
    "<h3>Generate Test Data</h3>"
   ]
  },
  {
   "cell_type": "markdown",
   "id": "e98806a7-8a97-4576-be92-750276842d57",
   "metadata": {},
   "source": [
    "Now, we will use the Python Faker module to generate files and directories."
   ]
  },
  {
   "cell_type": "code",
   "execution_count": 96,
   "id": "d9f44c42-367e-4c6d-8e12-806960a6dee1",
   "metadata": {},
   "outputs": [
    {
     "name": "stdout",
     "output_type": "stream",
     "text": [
      "Requirement already satisfied: Faker in c:\\users\\myesha\\anaconda3\\lib\\site-packages (30.8.0)\n",
      "Requirement already satisfied: python-dateutil>=2.4 in c:\\users\\myesha\\anaconda3\\lib\\site-packages (from Faker) (2.9.0.post0)\n",
      "Requirement already satisfied: typing-extensions in c:\\users\\myesha\\anaconda3\\lib\\site-packages (from Faker) (4.11.0)\n",
      "Requirement already satisfied: six>=1.5 in c:\\users\\myesha\\anaconda3\\lib\\site-packages (from python-dateutil>=2.4->Faker) (1.16.0)\n"
     ]
    }
   ],
   "source": [
    "!pip install Faker\n",
    "from faker import Faker\n",
    "\n",
    "fake = Faker()\n",
    "\n",
    "fake_file = []\n",
    "for _ in range(100):\n",
    "    fake_file.append(\n",
    "        fake.file_path(depth=3)\n",
    "    )"
   ]
  },
  {
   "cell_type": "markdown",
   "id": "4ef4eb2a-3534-4593-b519-5c1f61b452ea",
   "metadata": {},
   "source": [
    "Next, we will create a panda dataframe to preview the files in the directory."
   ]
  },
  {
   "cell_type": "code",
   "execution_count": 97,
   "id": "e7e392c3-8cab-449c-8401-53911375f3c3",
   "metadata": {},
   "outputs": [
    {
     "data": {
      "text/html": [
       "<div>\n",
       "<style scoped>\n",
       "    .dataframe tbody tr th:only-of-type {\n",
       "        vertical-align: middle;\n",
       "    }\n",
       "\n",
       "    .dataframe tbody tr th {\n",
       "        vertical-align: top;\n",
       "    }\n",
       "\n",
       "    .dataframe thead th {\n",
       "        text-align: right;\n",
       "    }\n",
       "</style>\n",
       "<table border=\"1\" class=\"dataframe\">\n",
       "  <thead>\n",
       "    <tr style=\"text-align: right;\">\n",
       "      <th></th>\n",
       "      <th>0</th>\n",
       "    </tr>\n",
       "  </thead>\n",
       "  <tbody>\n",
       "    <tr>\n",
       "      <th>0</th>\n",
       "      <td>/possible/manage/school/poor.flac</td>\n",
       "    </tr>\n",
       "    <tr>\n",
       "      <th>1</th>\n",
       "      <td>/pretty/sell/rest/capital.numbers</td>\n",
       "    </tr>\n",
       "    <tr>\n",
       "      <th>2</th>\n",
       "      <td>/impact/which/care/time.pdf</td>\n",
       "    </tr>\n",
       "    <tr>\n",
       "      <th>3</th>\n",
       "      <td>/campaign/take/responsibility/turn.key</td>\n",
       "    </tr>\n",
       "    <tr>\n",
       "      <th>4</th>\n",
       "      <td>/light/including/station/American.avi</td>\n",
       "    </tr>\n",
       "    <tr>\n",
       "      <th>5</th>\n",
       "      <td>/strategy/heavy/lose/cut.pdf</td>\n",
       "    </tr>\n",
       "    <tr>\n",
       "      <th>6</th>\n",
       "      <td>/mention/among/world/week.flac</td>\n",
       "    </tr>\n",
       "    <tr>\n",
       "      <th>7</th>\n",
       "      <td>/outside/reflect/nature/you.doc</td>\n",
       "    </tr>\n",
       "    <tr>\n",
       "      <th>8</th>\n",
       "      <td>/ten/stand/better/drug.avi</td>\n",
       "    </tr>\n",
       "    <tr>\n",
       "      <th>9</th>\n",
       "      <td>/build/young/focus/movement.webm</td>\n",
       "    </tr>\n",
       "  </tbody>\n",
       "</table>\n",
       "</div>"
      ],
      "text/plain": [
       "                                        0\n",
       "0       /possible/manage/school/poor.flac\n",
       "1       /pretty/sell/rest/capital.numbers\n",
       "2             /impact/which/care/time.pdf\n",
       "3  /campaign/take/responsibility/turn.key\n",
       "4   /light/including/station/American.avi\n",
       "5            /strategy/heavy/lose/cut.pdf\n",
       "6          /mention/among/world/week.flac\n",
       "7         /outside/reflect/nature/you.doc\n",
       "8              /ten/stand/better/drug.avi\n",
       "9        /build/young/focus/movement.webm"
      ]
     },
     "execution_count": 97,
     "metadata": {},
     "output_type": "execute_result"
    }
   ],
   "source": [
    "import pandas as pd\n",
    "\n",
    "df = pd.DataFrame(fake_file)\n",
    "df.head(10)"
   ]
  },
  {
   "cell_type": "markdown",
   "id": "d227d8f8-736f-441d-bdd0-34ab2739a494",
   "metadata": {},
   "source": [
    "Separate the file name from the file extension"
   ]
  },
  {
   "cell_type": "code",
   "execution_count": 100,
   "id": "5d258924-f152-43b1-82d3-69b6804d5df5",
   "metadata": {},
   "outputs": [],
   "source": [
    "import pathlib\n",
    "\n",
    "from pathlib import Path\n",
    "\n",
    "file_name = []\n",
    "for file in fake_file:\n",
    "    file_name.append(\n",
    "        pathlib.Path(file).stem\n",
    "    )"
   ]
  },
  {
   "cell_type": "code",
   "execution_count": 102,
   "id": "26719826-afd2-4e8f-94fe-06c0bf92c10d",
   "metadata": {},
   "outputs": [
    {
     "data": {
      "text/plain": [
       "['poor',\n",
       " 'capital',\n",
       " 'time',\n",
       " 'turn',\n",
       " 'American',\n",
       " 'cut',\n",
       " 'week',\n",
       " 'you',\n",
       " 'drug',\n",
       " 'movement',\n",
       " 'wait',\n",
       " 'just',\n",
       " 'allow',\n",
       " 'model',\n",
       " 'he',\n",
       " 'happen',\n",
       " 'avoid',\n",
       " 'democratic',\n",
       " 'account',\n",
       " 'early',\n",
       " 'me',\n",
       " 'detail',\n",
       " 'write',\n",
       " 'personal',\n",
       " 'close',\n",
       " 'four',\n",
       " 'hotel',\n",
       " 'against',\n",
       " 'kitchen',\n",
       " 'knowledge',\n",
       " 'light',\n",
       " 'however',\n",
       " 'Democrat',\n",
       " 'style',\n",
       " 'stuff',\n",
       " 'special',\n",
       " 'grow',\n",
       " 'program',\n",
       " 'ability',\n",
       " 'account',\n",
       " 'politics',\n",
       " 'resource',\n",
       " 'far',\n",
       " 'amount',\n",
       " 'light',\n",
       " 'try',\n",
       " 'bed',\n",
       " 'none',\n",
       " 'author',\n",
       " 'center',\n",
       " 'book',\n",
       " 'start',\n",
       " 'hot',\n",
       " 'same',\n",
       " 'chair',\n",
       " 'material',\n",
       " 'run',\n",
       " 'first',\n",
       " 'dinner',\n",
       " 'throughout',\n",
       " 'site',\n",
       " 'analysis',\n",
       " 'scene',\n",
       " 'society',\n",
       " 'magazine',\n",
       " 'know',\n",
       " 'line',\n",
       " 'carry',\n",
       " 'strategy',\n",
       " 'show',\n",
       " 'peace',\n",
       " 'east',\n",
       " 'art',\n",
       " 'popular',\n",
       " 'spend',\n",
       " 'arm',\n",
       " 'partner',\n",
       " 'green',\n",
       " 'hard',\n",
       " 'attack',\n",
       " 'industry',\n",
       " 'group',\n",
       " 'future',\n",
       " 'air',\n",
       " 'determine',\n",
       " 'enter',\n",
       " 'nation',\n",
       " 'try',\n",
       " 'baby',\n",
       " 'whose',\n",
       " 'buy',\n",
       " 'job',\n",
       " 'ball',\n",
       " 'couple',\n",
       " 'world',\n",
       " 'we',\n",
       " 'fine',\n",
       " 'not',\n",
       " 'by',\n",
       " 'significant']"
      ]
     },
     "execution_count": 102,
     "metadata": {},
     "output_type": "execute_result"
    }
   ],
   "source": [
    "file_name #verify the file names have been created"
   ]
  },
  {
   "cell_type": "code",
   "execution_count": 104,
   "id": "cfdbf90f-e701-4cc3-adff-4378ad13c645",
   "metadata": {},
   "outputs": [],
   "source": [
    "file_ext = []\n",
    "for file in fake_file:\n",
    "    file_ext.append(\n",
    "        pathlib.Path(file).suffix\n",
    "    )"
   ]
  },
  {
   "cell_type": "code",
   "execution_count": 106,
   "id": "1fb68a30-76c6-456c-b93c-a3c65ff1c63a",
   "metadata": {},
   "outputs": [
    {
     "data": {
      "text/plain": [
       "['.flac',\n",
       " '.numbers',\n",
       " '.pdf',\n",
       " '.key',\n",
       " '.avi',\n",
       " '.pdf',\n",
       " '.flac',\n",
       " '.doc',\n",
       " '.avi',\n",
       " '.webm',\n",
       " '.jpg',\n",
       " '.flac',\n",
       " '.tiff',\n",
       " '.css',\n",
       " '.docx',\n",
       " '.mp3',\n",
       " '.jpeg',\n",
       " '.bmp',\n",
       " '.wav',\n",
       " '.wav',\n",
       " '.css',\n",
       " '.bmp',\n",
       " '.ppt',\n",
       " '.xls',\n",
       " '.mov',\n",
       " '.gif',\n",
       " '.jpeg',\n",
       " '.png',\n",
       " '.flac',\n",
       " '.png',\n",
       " '.flac',\n",
       " '.mp4',\n",
       " '.ods',\n",
       " '.flac',\n",
       " '.avi',\n",
       " '.csv',\n",
       " '.jpg',\n",
       " '.ods',\n",
       " '.jpeg',\n",
       " '.webm',\n",
       " '.odp',\n",
       " '.css',\n",
       " '.webm',\n",
       " '.numbers',\n",
       " '.webm',\n",
       " '.ppt',\n",
       " '.png',\n",
       " '.ppt',\n",
       " '.gif',\n",
       " '.odp',\n",
       " '.png',\n",
       " '.txt',\n",
       " '.ods',\n",
       " '.bmp',\n",
       " '.webm',\n",
       " '.numbers',\n",
       " '.js',\n",
       " '.mp3',\n",
       " '.wav',\n",
       " '.css',\n",
       " '.wav',\n",
       " '.mp3',\n",
       " '.numbers',\n",
       " '.gif',\n",
       " '.mp3',\n",
       " '.jpeg',\n",
       " '.csv',\n",
       " '.mov',\n",
       " '.html',\n",
       " '.js',\n",
       " '.csv',\n",
       " '.css',\n",
       " '.jpeg',\n",
       " '.gif',\n",
       " '.mov',\n",
       " '.js',\n",
       " '.webm',\n",
       " '.csv',\n",
       " '.flac',\n",
       " '.flac',\n",
       " '.png',\n",
       " '.csv',\n",
       " '.mp3',\n",
       " '.ppt',\n",
       " '.docx',\n",
       " '.gif',\n",
       " '.ppt',\n",
       " '.html',\n",
       " '.odp',\n",
       " '.css',\n",
       " '.js',\n",
       " '.flac',\n",
       " '.json',\n",
       " '.css',\n",
       " '.jpeg',\n",
       " '.wav',\n",
       " '.tiff',\n",
       " '.webm',\n",
       " '.bmp',\n",
       " '.flac']"
      ]
     },
     "execution_count": 106,
     "metadata": {},
     "output_type": "execute_result"
    }
   ],
   "source": [
    "file_ext # verify the file extensions have been created"
   ]
  },
  {
   "cell_type": "markdown",
   "id": "e0c04c34-4ba0-4e6e-b334-1852b741610e",
   "metadata": {},
   "source": [
    "<h3>Add the file names and file extensions to a SQLite</h3>"
   ]
  },
  {
   "cell_type": "code",
   "execution_count": 128,
   "id": "1337adeb-657d-4e64-9bc3-827dc623dc12",
   "metadata": {},
   "outputs": [],
   "source": [
    "import sqlite3\n",
    "\n",
    "# create the database an open a cursor\n",
    "connection = sqlite3.connect('filesystem.db')\n",
    "\n",
    "cursor = conn.cursor()\n",
    "\n",
    "# create a files table\n",
    "table = 'CREATE TABLE IF NOT EXISTS files (id INTEGER PRIMARY KEY AUTOINCREMENT, file_name TEXT, file_ext TEXT)'\n",
    "cursor = connection.cursor()\n",
    "cursor.execute(table)\n",
    "connection.commit()\n"
   ]
  },
  {
   "cell_type": "code",
   "execution_count": 130,
   "id": "62728b5d-6815-4bde-a025-4e54b43552ee",
   "metadata": {},
   "outputs": [],
   "source": [
    "# insert the file names and file extensions into the files table\n",
    "insert_query = 'INSERT INTO files(file_name, file_ext) VALUES (?,?)'\n",
    "cursor = connection.cursor()\n",
    "for name, ext in zip(file_name, file_ext):\n",
    "\tcursor.execute(insert_query, (name, ext))\n",
    "connection.commit()"
   ]
  },
  {
   "cell_type": "code",
   "execution_count": 143,
   "id": "f364dea6-d8a4-420e-b8e7-d5bf962d69c1",
   "metadata": {},
   "outputs": [
    {
     "name": "stdout",
     "output_type": "stream",
     "text": [
      "(1, 'poor', '.flac')\n",
      "(2, 'capital', '.numbers')\n",
      "(3, 'time', '.pdf')\n",
      "(4, 'turn', '.key')\n",
      "(5, 'American', '.avi')\n",
      "(6, 'cut', '.pdf')\n",
      "(7, 'week', '.flac')\n",
      "(8, 'you', '.doc')\n",
      "(9, 'drug', '.avi')\n",
      "(10, 'movement', '.webm')\n"
     ]
    }
   ],
   "source": [
    "# query the files table to view the first 10 rows of data\n",
    "files = 'SELECT * FROM files LIMIT 10'\n",
    "for i in cursor.execute(files):\n",
    "    print(i)"
   ]
  },
  {
   "cell_type": "code",
   "execution_count": null,
   "id": "63170b38-73e6-43c7-8ff1-4db5465dd3a7",
   "metadata": {},
   "outputs": [],
   "source": []
  }
 ],
 "metadata": {
  "kernelspec": {
   "display_name": "Python 3 (ipykernel)",
   "language": "python",
   "name": "python3"
  },
  "language_info": {
   "codemirror_mode": {
    "name": "ipython",
    "version": 3
   },
   "file_extension": ".py",
   "mimetype": "text/x-python",
   "name": "python",
   "nbconvert_exporter": "python",
   "pygments_lexer": "ipython3",
   "version": "3.12.4"
  }
 },
 "nbformat": 4,
 "nbformat_minor": 5
}
